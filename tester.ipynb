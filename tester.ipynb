{
 "cells": [
  {
   "cell_type": "code",
   "execution_count": 1,
   "metadata": {},
   "outputs": [],
   "source": [
    "import pandas as pd"
   ]
  },
  {
   "cell_type": "code",
   "execution_count": 6,
   "metadata": {},
   "outputs": [],
   "source": [
    "tabs = pd.read_html('https://www.premierleague.com/tables')"
   ]
  },
  {
   "cell_type": "code",
   "execution_count": 8,
   "metadata": {},
   "outputs": [],
   "source": [
    "import scrapy\n",
    "import pandas as pd\n",
    "\n",
    "class PremierLeagueTableSpider(scrapy.Spider):\n",
    "    name = 'premier_league_table'\n",
    "    start_urls = ['https://www.premierleague.com/tables']\n",
    "\n",
    "    def parse(self, response):\n",
    "        # Create an empty DataFrame to store the data\n",
    "        data = []\n",
    "\n",
    "        # Extracting the team names and points from the Premier League table\n",
    "        for row in response.css('table.standingTable tr[data-compseason]'):\n",
    "            team_name = row.css('td.team span.long::text').get()\n",
    "            points = row.css('td.points::text').get()\n",
    "\n",
    "            if team_name and points:\n",
    "                data.append({\n",
    "                    'Team Name': team_name.strip(),\n",
    "                    'Points': int(points)\n",
    "                })\n",
    "\n",
    "        # Create a pandas DataFrame from the collected data\n",
    "        df = pd.DataFrame(data)\n",
    "\n",
    "        # Print the DataFrame (you can save it or perform further operations)\n",
    "        print(df)\n"
   ]
  }
 ],
 "metadata": {
  "kernelspec": {
   "display_name": "Python 3",
   "language": "python",
   "name": "python3"
  },
  "language_info": {
   "codemirror_mode": {
    "name": "ipython",
    "version": 3
   },
   "file_extension": ".py",
   "mimetype": "text/x-python",
   "name": "python",
   "nbconvert_exporter": "python",
   "pygments_lexer": "ipython3",
   "version": "3.11.3"
  },
  "orig_nbformat": 4
 },
 "nbformat": 4,
 "nbformat_minor": 2
}
