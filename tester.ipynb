{
 "cells": [
  {
   "cell_type": "code",
   "execution_count": 1,
   "metadata": {},
   "outputs": [
    {
     "name": "stdout",
     "output_type": "stream",
     "text": [
      "Doing DF companies\n",
      "DONE DF\n",
      "Doing DF postings\n",
      "DONE DF\n",
      "Doing DF details\n",
      "DONE DF\n",
      "Doing DF comparison\n",
      "DONE DF\n",
      "Doing DF geomap_interest\n",
      "DONE DF\n",
      "Doing DF comparison_timeline\n",
      "DONE DF\n"
     ]
    }
   ],
   "source": [
    "from hook_pre import prehook\n",
    "\n",
    "prehook()"
   ]
  },
  {
   "cell_type": "code",
   "execution_count": 2,
   "metadata": {},
   "outputs": [
    {
     "name": "stderr",
     "output_type": "stream",
     "text": [
      "c:\\Users\\96171\\Desktop\\Final_Project\\database_handler.py:51: UserWarning: pandas only supports SQLAlchemy connectable (engine/connection) or database string URI or sqlite3 DBAPI2 connection. Other DBAPI2 objects are not tested. Please consider using SQLAlchemy.\n",
      "  return_dataframe = pd.read_sql_query(con= db_session, sql= file_executor)\n"
     ]
    },
    {
     "name": "stdout",
     "output_type": "stream",
     "text": [
      "2023-10-24 False\n"
     ]
    }
   ],
   "source": [
    "from hook import hook\n",
    "\n",
    "hook()"
   ]
  },
  {
   "cell_type": "code",
   "execution_count": 3,
   "metadata": {},
   "outputs": [],
   "source": [
    "from hook_post import post_hook\n",
    "from database_handler import create_connection\n",
    "\n",
    "db_session = create_connection()\n",
    "\n",
    "post_hook()"
   ]
  }
 ],
 "metadata": {
  "kernelspec": {
   "display_name": "Python 3",
   "language": "python",
   "name": "python3"
  },
  "language_info": {
   "codemirror_mode": {
    "name": "ipython",
    "version": 3
   },
   "file_extension": ".py",
   "mimetype": "text/x-python",
   "name": "python",
   "nbconvert_exporter": "python",
   "pygments_lexer": "ipython3",
   "version": "3.11.3"
  },
  "orig_nbformat": 4
 },
 "nbformat": 4,
 "nbformat_minor": 2
}
