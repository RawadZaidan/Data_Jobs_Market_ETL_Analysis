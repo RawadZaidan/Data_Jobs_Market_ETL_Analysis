{
 "cells": [
  {
   "cell_type": "code",
   "execution_count": 5,
   "metadata": {},
   "outputs": [
    {
     "data": {
      "text/plain": [
       "'python BOOL r BOOL sql BOOL scala BOOLtableau BOOLpower_bi BOOL mysql BOOL postgresql BOOL nosql BOOL etl BOOLdax BOOLaws BOOLazure BOOLremote BOOLhybrid BOOLon_site BOOL junior BOOL mid BOOL senior'"
      ]
     },
     "execution_count": 5,
     "metadata": {},
     "output_type": "execute_result"
    }
   ],
   "source": [
    "l = '''d.python, d.r, d.sql, d.scala,d.tableau,d.power_bi, d.mysql, d.postgresql, d.nosql, d.etl,d.dax,d.aws,d.azure,d.remote,d.hybrid,d.on_site, d.junior, d.mid, d.senior'''\n",
    "l.replace('d.', '').replace(',', ' BOOL')"
   ]
  },
  {
   "cell_type": "code",
   "execution_count": 7,
   "metadata": {},
   "outputs": [],
   "source": [
    "m = 'id,job_title,lower_salary,higher_salary,company_name,rating,size,founded,revenue,tag'"
   ]
  },
  {
   "cell_type": "code",
   "execution_count": 11,
   "metadata": {},
   "outputs": [],
   "source": [
    "m = m.split(',')"
   ]
  },
  {
   "cell_type": "code",
   "execution_count": 16,
   "metadata": {},
   "outputs": [
    {
     "data": {
      "text/plain": [
       "'id=excluded.id ,posting_date=excluded.posting_date ,company_id=excluded.company_id ,min_yearly_salary=excluded.min_yearly_salary ,max_yearly_salary=excluded.max_yearly_salary ,company_link=excluded.company_link ,python=excluded.python ,r=excluded.r ,sql=excluded.sql ,scala=excluded.scala ,tableau=excluded.tableau ,power_bi=excluded.power_bi ,mysql=excluded.mysql ,postgresql=excluded.postgresql ,nosql=excluded.nosql ,etl=excluded.etl ,dax=excluded.dax ,aws=excluded.aws ,azure=excluded.azure ,remote=excluded.remote ,hybrid=excluded.hybrid ,on_site=excluded.on_site ,junior=excluded.junior ,mid=excluded.mid ,senior=excluded.senior ,'"
      ]
     },
     "execution_count": 16,
     "metadata": {},
     "output_type": "execute_result"
    }
   ],
   "source": [
    "out = ''\n",
    "for n in m:\n",
    "    out += n.split()[0] + '=' + 'excluded.' + n.split()[0]+ ' ,'\n",
    "out"
   ]
  }
 ],
 "metadata": {
  "kernelspec": {
   "display_name": "Python 3",
   "language": "python",
   "name": "python3"
  },
  "language_info": {
   "codemirror_mode": {
    "name": "ipython",
    "version": 3
   },
   "file_extension": ".py",
   "mimetype": "text/x-python",
   "name": "python",
   "nbconvert_exporter": "python",
   "pygments_lexer": "ipython3",
   "version": "3.11.3"
  },
  "orig_nbformat": 4
 },
 "nbformat": 4,
 "nbformat_minor": 2
}
