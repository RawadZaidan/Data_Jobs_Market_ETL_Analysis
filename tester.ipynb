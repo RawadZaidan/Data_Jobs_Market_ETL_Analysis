{
 "cells": [
  {
   "cell_type": "code",
   "execution_count": null,
   "metadata": {},
   "outputs": [],
   "source": [
    "import pandas as pd\n",
    "from lookup import DRIVE_CSVS\n",
    "\n",
    "def concat_dfs(*args):\n",
    "    df_concatenated = pd.concat(args, ignore_index=True)\n",
    "    return df_concatenated\n",
    "\n",
    "def read_csv_files_from_drive(url):\n",
    "    file_id = url.split(\"/\")[-2]\n",
    "    reading_link = f\"https://drive.google.com/uc?id={file_id}\"\n",
    "    df = pd.read_csv(reading_link)\n",
    "    return df\n",
    "\n",
    "list_of_csvs = DRIVE_CSVS.company_info.value\n",
    "\n",
    "def return_concatenated_df_from_drive(lookup_list_of_urls): \n",
    "    dfs = []\n",
    "    for link in list_of_csvs:\n",
    "        df = read_csv_files_from_drive(link)\n",
    "        dfs.append(df)\n",
    "    final = pd.concat(dfs, ignore_index=True)\n",
    "    return final "
   ]
  },
  {
   "cell_type": "code",
   "execution_count": null,
   "metadata": {},
   "outputs": [],
   "source": []
  },
  {
   "cell_type": "code",
   "execution_count": null,
   "metadata": {},
   "outputs": [],
   "source": [
    "geomap = ['https://drive.google.com/file/d/1gm5JFUIjbumHKarRJQc6twJVnlPWGvhJ/view?usp=drive_link',\n",
    "              'https://drive.google.com/file/d/11yJRl39fs2PRwap9oRBoUuR5iPuT-rbu/view?usp=drive_link',\n",
    "              'https://drive.google.com/file/d/1Ei6eUEhPk8jncy09RWuRU9Zb-dslZqmY/view?usp=drive_link']\n",
    "\n",
    "def printer(*args):\n",
    "    for i in args:\n",
    "        for link in i:\n",
    "            print(link)\n",
    "\n",
    "printer(geomap)"
   ]
  },
  {
   "cell_type": "code",
   "execution_count": null,
   "metadata": {},
   "outputs": [],
   "source": [
    "def concat_dfs(*args):\n",
    "    df_concatenated = pd.concat(args, ignore_index=True)\n",
    "    return df_concatenated"
   ]
  },
  {
   "cell_type": "code",
   "execution_count": null,
   "metadata": {},
   "outputs": [],
   "source": [
    "dfs = concat_dfs(read_csv_files_from_drive(\"https://drive.google.com/file/d/1cnH7hmQEneOIYR8QoT7AstSEqptd-zdo/view?usp=drive_link\"),\n",
    "                 read_csv_files_from_drive(\"https://drive.google.com/file/d/1XqRTnyMWhws6yGnyuCN7DvPMVl5vIgWS/view?usp=drive_link\"))"
   ]
  },
  {
   "cell_type": "code",
   "execution_count": null,
   "metadata": {},
   "outputs": [],
   "source": [
    "dfs"
   ]
  },
  {
   "cell_type": "code",
   "execution_count": 1,
   "metadata": {},
   "outputs": [],
   "source": [
    "from database_handler import create_connection\n",
    "\n",
    "db_session = create_connection()"
   ]
  },
  {
   "cell_type": "code",
   "execution_count": null,
   "metadata": {},
   "outputs": [],
   "source": [
    "import json\n",
    "\n",
    "with open(\"config.json\", \"r\") as json_file:\n",
    "    loaded_config = json.load(json_file)\n",
    "\n",
    "print(loaded_config)\n"
   ]
  }
 ],
 "metadata": {
  "kernelspec": {
   "display_name": "Python 3",
   "language": "python",
   "name": "python3"
  },
  "language_info": {
   "codemirror_mode": {
    "name": "ipython",
    "version": 3
   },
   "file_extension": ".py",
   "mimetype": "text/x-python",
   "name": "python",
   "nbconvert_exporter": "python",
   "pygments_lexer": "ipython3",
   "version": "3.11.3"
  },
  "orig_nbformat": 4
 },
 "nbformat": 4,
 "nbformat_minor": 2
}
