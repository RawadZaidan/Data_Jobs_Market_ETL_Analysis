{
 "cells": [
  {
   "cell_type": "code",
   "execution_count": null,
   "metadata": {},
   "outputs": [],
   "source": [
    "import pandas as pd \n",
    "from hook_pre import concat_dfs_in_dir\n",
    "\n",
    "df_comparison = concat_dfs_in_dir('local_csvs/analyst_engineer_scientist/')"
   ]
  },
  {
   "cell_type": "code",
   "execution_count": null,
   "metadata": {},
   "outputs": [],
   "source": [
    "def transform_salary(s):\n",
    "    try:\n",
    "        x = int(str(s)[1:-1])*1000\n",
    "        return x\n",
    "    except:\n",
    "        pass\n",
    "\n",
    "df_comparison['Lower_Salary'] = df_comparison['Lower_Salary'].apply(transform_salary)\n",
    "df_comparison['Higher_Salary'] = df_comparison['Higher_Salary'].apply(transform_salary)\n"
   ]
  },
  {
   "cell_type": "code",
   "execution_count": null,
   "metadata": {},
   "outputs": [],
   "source": [
    "df_comparison"
   ]
  },
  {
   "cell_type": "code",
   "execution_count": 1,
   "metadata": {},
   "outputs": [
    {
     "name": "stdout",
     "output_type": "stream",
     "text": [
      "Doing DF companies\n",
      "DONE DF\n",
      "Doing DF postings\n",
      "DONE DF\n",
      "Doing DF details\n",
      "DONE DF\n",
      "Doing DF comparison\n",
      "DONE DF\n"
     ]
    }
   ],
   "source": [
    "from hook_pre import prehook\n",
    "\n",
    "prehook()"
   ]
  }
 ],
 "metadata": {
  "kernelspec": {
   "display_name": "Python 3",
   "language": "python",
   "name": "python3"
  },
  "language_info": {
   "codemirror_mode": {
    "name": "ipython",
    "version": 3
   },
   "file_extension": ".py",
   "mimetype": "text/x-python",
   "name": "python",
   "nbconvert_exporter": "python",
   "pygments_lexer": "ipython3",
   "version": "3.11.3"
  },
  "orig_nbformat": 4
 },
 "nbformat": 4,
 "nbformat_minor": 2
}
