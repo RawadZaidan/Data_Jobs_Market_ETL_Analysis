{
 "cells": [
  {
   "cell_type": "code",
   "execution_count": null,
   "metadata": {},
   "outputs": [],
   "source": [
    "from selenium import webdriver\n",
    "from selenium.webdriver.common.by import By\n",
    "from selenium.webdriver.chrome.options import Options\n",
    "\n",
    "# Set up the Selenium WebDriver (you'll need to download the appropriate driver for your browser)\n",
    "driver = webdriver.Chrome()\n",
    "options=Options()\n",
    "options.add_argument('--headless')\n",
    "driver = webdriver.Chrome(options=options)\n",
    "\n",
    "# Navigate to the website\n",
    "driver.get('https://kidgineers.github.io/mainpage/')  # Replace with the URL of the website you want to scrape\n",
    "\n",
    "try:\n",
    "    # Find all elements by their class name\n",
    "    elements = driver.find_elements(By.CLASS_NAME, 'menu__content')  # Replace 'your-class-name' with the actual class name\n",
    "\n",
    "    # Iterate through the list of elements and extract the href attribute from each button\n",
    "    for element in elements:\n",
    "        href_attribute = element.get_attribute('data-sr-id')\n",
    "        print(\"Href attribute value:\", href_attribute)\n",
    "        descr = element.find_elements(By.TAG_NAME, 'h3')\n",
    "        print(descr)\n",
    "        \n",
    "    # Print or do something with the list of href attribute values\n",
    "    print(\"List of href attribute values:\", elements)\n",
    "finally:\n",
    "    # Close the WebDriver\n",
    "    driver.quit()"
   ]
  },
  {
   "cell_type": "code",
   "execution_count": null,
   "metadata": {},
   "outputs": [],
   "source": [
    "for item in descr:\n",
    "    print(item)"
   ]
  },
  {
   "cell_type": "code",
   "execution_count": null,
   "metadata": {},
   "outputs": [],
   "source": [
    "from selenium import webdriver\n",
    "from selenium.webdriver.common.by import By\n",
    "from selenium.webdriver.chrome.options import Options\n",
    "\n",
    "# Set up the Selenium WebDriver (you'll need to download the appropriate driver for your browser)\n",
    "driver = webdriver.Chrome()\n",
    "options=Options()\n",
    "options.add_argument('--headless')\n",
    "options.add_argument(\"--user-agent=Mozilla/5.0 (Windows NT 10.0; Win64; x64) AppleWebKit/537.36 (KHTML, like Gecko) Chrome/58.0.3029.110 Safari/537.36\")\n",
    "driver = webdriver.Chrome(options=options)\n",
    "\n",
    "# Navigate to the website\n",
    "driver.get('https://www.indeed.com/jobs?q=data+engineer&l=remote')  # Replace with the URL of the website you want to scrape\n",
    "\n",
    "try:\n",
    "    # Find all elements by their class name\n",
    "    elements = driver.find_elements(By.TAG_NAME, 'li')  # Replace 'your-class-name' with the actual class name\n",
    "    # Iterate through the list of elements and extract the href attribute from each button\n",
    "    for element in elements:\n",
    "        print('found one')\n",
    "        # href_attribute = element.get_attribute('aria-label')\n",
    "        # print(\"Href attribute value:\", href_attribute)\n",
    "        # descr = element.find_elements(By.TAG_NAME, 'h3')\n",
    "        # print(descr)\n",
    "        \n",
    "    # Print or do something with the list of href attribute values\n",
    "    print(\"List of href attribute values:\", elements)\n",
    "finally:\n",
    "    # Close the WebDriver\n",
    "    driver.quit()"
   ]
  },
  {
   "cell_type": "code",
   "execution_count": 4,
   "metadata": {},
   "outputs": [],
   "source": [
    "from main import job_data_get\n",
    "from requests_html import HTMLSession\n",
    "\n",
    "s = HTMLSession()\n",
    "u = 'https://www.linkedin.com/jobs/search?keywords=data%20engineer&location=United%20States&geoId=103644278&trk=public_jobs_jobs-search-bar_search-submit&position=1&pageNum=0'\n",
    "resp = s.get(u)"
   ]
  }
 ],
 "metadata": {
  "kernelspec": {
   "display_name": "Python 3",
   "language": "python",
   "name": "python3"
  },
  "language_info": {
   "codemirror_mode": {
    "name": "ipython",
    "version": 3
   },
   "file_extension": ".py",
   "mimetype": "text/x-python",
   "name": "python",
   "nbconvert_exporter": "python",
   "pygments_lexer": "ipython3",
   "version": "3.11.3"
  },
  "orig_nbformat": 4
 },
 "nbformat": 4,
 "nbformat_minor": 2
}
