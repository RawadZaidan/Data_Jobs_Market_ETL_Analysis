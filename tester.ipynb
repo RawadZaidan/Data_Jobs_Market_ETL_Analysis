{
 "cells": [
  {
   "cell_type": "code",
   "execution_count": null,
   "metadata": {},
   "outputs": [],
   "source": [
    "l = '''d.python, d.r, d.sql, d.scala,d.tableau,d.power_bi, d.mysql, d.postgresql, d.nosql, d.etl,d.dax,d.aws,d.azure,d.remote,d.hybrid,d.on_site, d.junior, d.mid, d.senior'''\n",
    "l.replace('d.', '').replace(',', ' BOOL')"
   ]
  },
  {
   "cell_type": "code",
   "execution_count": null,
   "metadata": {},
   "outputs": [],
   "source": [
    "m = 'id,job_title,lower_salary,higher_salary,company_name,rating,size,founded,revenue,tag'"
   ]
  },
  {
   "cell_type": "code",
   "execution_count": null,
   "metadata": {},
   "outputs": [],
   "source": [
    "m = m.split(',')"
   ]
  },
  {
   "cell_type": "code",
   "execution_count": null,
   "metadata": {},
   "outputs": [],
   "source": [
    "out = ''\n",
    "for n in m:\n",
    "    out += n.split()[0] + '=' + 'excluded.' + n.split()[0]+ ' ,'\n",
    "out"
   ]
  },
  {
   "cell_type": "code",
   "execution_count": 1,
   "metadata": {},
   "outputs": [
    {
     "name": "stdout",
     "output_type": "stream",
     "text": [
      "Doing DF companies\n",
      "DONE DF\n",
      "Doing DF postings\n",
      "DONE DF\n",
      "Doing DF details\n",
      "DONE DF\n",
      "Doing DF comparison\n",
      "DONE DF\n",
      "Doing DF geomap_interest\n",
      "DONE DF\n"
     ]
    }
   ],
   "source": [
    "from hook_pre import prehook_local_files_into_pg\n",
    "from database_handler import create_connection\n",
    "\n",
    "db_session = create_connection()\n",
    "\n",
    "prehook_local_files_into_pg(db_session)"
   ]
  }
 ],
 "metadata": {
  "kernelspec": {
   "display_name": "Python 3",
   "language": "python",
   "name": "python3"
  },
  "language_info": {
   "codemirror_mode": {
    "name": "ipython",
    "version": 3
   },
   "file_extension": ".py",
   "mimetype": "text/x-python",
   "name": "python",
   "nbconvert_exporter": "python",
   "pygments_lexer": "ipython3",
   "version": "3.11.3"
  },
  "orig_nbformat": 4
 },
 "nbformat": 4,
 "nbformat_minor": 2
}
