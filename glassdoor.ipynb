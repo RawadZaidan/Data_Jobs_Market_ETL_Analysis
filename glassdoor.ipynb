{
 "cells": [
  {
   "cell_type": "code",
   "execution_count": 1,
   "metadata": {},
   "outputs": [],
   "source": [
    "from bs4 import BeautifulSoup\n",
    "from lxml import etree as et\n",
    "from csv import writer\n",
    "import time\n",
    "from time import sleep\n",
    "import pandas as pd\n",
    "from random import randint\n",
    "import threading\n",
    "from concurrent.futures import ThreadPoolExecutor, wait\n",
    "import selenium\n",
    "from selenium import webdriver\n",
    "from selenium.webdriver.chrome.service import Service as ChromeService\n",
    "from webdriver_manager.chrome import ChromeDriverManager\n",
    "from selenium.webdriver.common.by import By\n",
    "from selenium.webdriver.support.ui import WebDriverWait\n",
    "from selenium.webdriver.support import expected_conditions as EC\n",
    "from selenium.webdriver.common.keys import Keys\n",
    "from selenium.common.exceptions import NoSuchElementException"
   ]
  },
  {
   "cell_type": "code",
   "execution_count": 2,
   "metadata": {},
   "outputs": [
    {
     "name": "stdout",
     "output_type": "stream",
     "text": [
      "35.43339967727661 seconds to complete action!\n"
     ]
    }
   ],
   "source": [
    "option= webdriver.ChromeOptions()\n",
    "paginaton_url = 'https://www.glassdoor.com/Job/data-engineer-jobs-SRCH_KO0,13.htm?fromAge=7'\n",
    "start = time.time()\n",
    "\n",
    "driver = webdriver.Chrome(service=ChromeService(ChromeDriverManager().install()),\n",
    "                         options=option)\n",
    "\n",
    "driver.get(paginaton_url)\n",
    "\n",
    "sleep(randint(2, 6))\n",
    "\n",
    "nextpage = driver.find_element(By.XPATH,'//*[@id=\"left-column\"]/div[2]/div/button')\n",
    "nextpage.click()\n",
    "sleep(randint(2, 6))\n",
    "\n",
    "nextpage = driver.find_element(By.XPATH,'//*[@id=\"left-column\"]/div[2]/div/button')\n",
    "nextpage.click()\n",
    "sleep(randint(2, 6))\n",
    "\n",
    "p=driver.find_elements(By.CLASS_NAME,'css-1nh9iuj')\n",
    "lll = []\n",
    "for t in p:\n",
    "    lll.append(t.text)\n",
    "\n",
    "sleep(10)\n",
    "\n",
    "driver.quit() \n",
    "\n",
    "end = time.time()\n",
    "\n",
    "print(end - start,'seconds to complete action!')"
   ]
  },
  {
   "cell_type": "code",
   "execution_count": null,
   "metadata": {},
   "outputs": [],
   "source": [
    "nextpage"
   ]
  }
 ],
 "metadata": {
  "kernelspec": {
   "display_name": "Python 3",
   "language": "python",
   "name": "python3"
  },
  "language_info": {
   "codemirror_mode": {
    "name": "ipython",
    "version": 3
   },
   "file_extension": ".py",
   "mimetype": "text/x-python",
   "name": "python",
   "nbconvert_exporter": "python",
   "pygments_lexer": "ipython3",
   "version": "3.11.3"
  }
 },
 "nbformat": 4,
 "nbformat_minor": 2
}
