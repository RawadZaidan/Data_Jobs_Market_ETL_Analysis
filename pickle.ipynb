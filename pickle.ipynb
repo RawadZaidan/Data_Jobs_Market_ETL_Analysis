{
 "cells": [
  {
   "cell_type": "code",
   "execution_count": 8,
   "metadata": {},
   "outputs": [
    {
     "name": "stdout",
     "output_type": "stream",
     "text": [
      "71778700\n",
      "Rozroz13899\n"
     ]
    }
   ],
   "source": [
    "import pickle\n",
    "\n",
    "# To load the password from the pickle file, you can use the following code:\n",
    "with open('linkedin_user.pkl', 'rb') as file:\n",
    "    loaded_user = pickle.load(file)\n",
    "    print(loaded_user)\n",
    "with open('linkedin_password.pkl', 'rb') as file:\n",
    "    loaded_password = pickle.load(file)\n",
    "    print(loaded_password)\n"
   ]
  }
 ],
 "metadata": {
  "kernelspec": {
   "display_name": "Python 3",
   "language": "python",
   "name": "python3"
  },
  "language_info": {
   "codemirror_mode": {
    "name": "ipython",
    "version": 3
   },
   "file_extension": ".py",
   "mimetype": "text/x-python",
   "name": "python",
   "nbconvert_exporter": "python",
   "pygments_lexer": "ipython3",
   "version": "3.11.3"
  }
 },
 "nbformat": 4,
 "nbformat_minor": 2
}
