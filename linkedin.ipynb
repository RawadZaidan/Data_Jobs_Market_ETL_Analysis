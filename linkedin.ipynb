{
 "cells": [
  {
   "cell_type": "code",
   "execution_count": null,
   "metadata": {},
   "outputs": [],
   "source": [
    "from requests_html import HTMLSession\n",
    "from lookup import linkedin_url, linkedin_xpaths, linkedin_attributes\n",
    "from webscraping import linkedin_get_page, linkedin_return_all_elements_by_xpath, linkedin_return_all_elements_as_df, linkedin_id_order, linkedin_wait\n",
    "import pandas as pd\n",
    "from webscraping import linkedin_wait\n",
    "\n",
    "session = HTMLSession()\n",
    "\n",
    "data_list = []\n",
    "\n",
    "for counter in range(0,1025 , 25):\n",
    "    try:\n",
    "        u = linkedin_url.url.value + str(counter)\n",
    "        print('Now on page: ', counter)\n",
    "        page = linkedin_get_page(session, url=u)\n",
    "        # Use Requests-HTML functions to scrape data from the page\n",
    "        items = page.html.xpath('//li')\n",
    "        if len(items) == 0:\n",
    "            break\n",
    "        for li in items:\n",
    "            titles = li.find('h3')[0].text\n",
    "            companies = li.find('a.hidden-nested-link')[0].text\n",
    "            locations = li.find('span.job-search-card__location')[0].text\n",
    "            links = li.find('a.base-card__full-link')[0].attrs['href']\n",
    "            time = li.find('time')[0].attrs['datetime']\n",
    "\n",
    "            data = {'title': titles, 'company': companies, 'location': locations,\n",
    "                    'link': links, 'posting_date': time}\n",
    "\n",
    "            data_list.append(data)\n",
    "\n",
    "        counter += 25\n",
    "    except:\n",
    "        pass\n",
    "\n",
    "df = pd.DataFrame(data_list)\n"
   ]
  },
  {
   "cell_type": "code",
   "execution_count": null,
   "metadata": {},
   "outputs": [],
   "source": [
    "df"
   ]
  },
  {
   "cell_type": "code",
   "execution_count": null,
   "metadata": {},
   "outputs": [],
   "source": [
    "dff = pd.DataFrame()"
   ]
  },
  {
   "cell_type": "code",
   "execution_count": null,
   "metadata": {},
   "outputs": [],
   "source": [
    "dff = pd.concat([dff,df], ignore_index=True)"
   ]
  },
  {
   "cell_type": "code",
   "execution_count": null,
   "metadata": {},
   "outputs": [],
   "source": [
    "dff"
   ]
  },
  {
   "cell_type": "code",
   "execution_count": null,
   "metadata": {},
   "outputs": [],
   "source": [
    "locations"
   ]
  },
  {
   "cell_type": "code",
   "execution_count": null,
   "metadata": {},
   "outputs": [],
   "source": [
    "data_list = []\n",
    "listings = page.html.xpath('//li')\n",
    "for job in listings:\n",
    "    titles, companies, locations, job_links, date = glassdoor_fetch_job_info(job)\n",
    "    data = {'title': titles, 'company': companies, 'location': locations,\n",
    "            'link': job_links,'posting_date': date}\n",
    "    data_list.append(data)\n",
    "df = pd.DataFrame(data_list)"
   ]
  }
 ],
 "metadata": {
  "kernelspec": {
   "display_name": "Python 3",
   "language": "python",
   "name": "python3"
  },
  "language_info": {
   "codemirror_mode": {
    "name": "ipython",
    "version": 3
   },
   "file_extension": ".py",
   "mimetype": "text/x-python",
   "name": "python",
   "nbconvert_exporter": "python",
   "pygments_lexer": "ipython3",
   "version": "3.11.3"
  }
 },
 "nbformat": 4,
 "nbformat_minor": 2
}
